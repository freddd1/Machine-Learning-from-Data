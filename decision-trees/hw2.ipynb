{
 "cells": [
  {
   "cell_type": "markdown",
   "metadata": {
    "id": "t8i3Hctd6s5S",
    "nbgrader": {
     "grade": false,
     "grade_id": "cell-6bd0516e7cb654f5",
     "locked": true,
     "schema_version": 1,
     "solution": false
    }
   },
   "source": [
    "# Exercise 2: Decision Trees\n",
    "\n",
    "In this assignment you will implement a Decision Tree algorithm as learned in class.\n",
    "\n",
    "\n",
    "## In this exercise you will perform the following:\n",
    "1. Implement two impurity measures: Gini and Entropy.\n",
    "2. Construct a decision tree algorithm.\n",
    "3. Prune the tree to achieve better results.\n",
    "4. Visualize your results."
   ]
  },
  {
   "cell_type": "code",
   "execution_count": 1,
   "metadata": {
    "id": "q6tQumXE6s5Y",
    "nbgrader": {
     "grade": false,
     "grade_id": "cell-ed9fe7b1026e33cb",
     "locked": true,
     "schema_version": 1,
     "solution": false
    }
   },
   "outputs": [],
   "source": [
    "import numpy as np\n",
    "import pandas as pd\n",
    "import matplotlib.pyplot as plt\n",
    "\n",
    "# make matplotlib figures appear inline in the notebook\n",
    "%matplotlib inline\n",
    "plt.rcParams['figure.figsize'] = (10.0, 8.0) # set default size of plots\n",
    "plt.rcParams['image.interpolation'] = 'nearest'\n",
    "plt.rcParams['image.cmap'] = 'gray'\n",
    "\n",
    "# Ignore warnings\n",
    "import warnings\n",
    "warnings.filterwarnings('ignore')"
   ]
  },
  {
   "cell_type": "code",
   "execution_count": 2,
   "metadata": {
    "id": "Z804Gc-u6s5Z"
   },
   "outputs": [],
   "source": [
    "# addng imports\n",
    "from queue import LifoQueue\n",
    "from queue import Queue"
   ]
  },
  {
   "cell_type": "markdown",
   "metadata": {
    "id": "qsBKYrbS6s5a",
    "nbgrader": {
     "grade": false,
     "grade_id": "cell-2f1ceb251c649b62",
     "locked": true,
     "schema_version": 1,
     "solution": false
    }
   },
   "source": [
    "## Data preprocessing\n",
    "\n",
    "For the following exercise, we will use a dataset containing mushroom data `agaricus-lepiota.csv`. \n",
    "\n",
    "This data set includes descriptions of hypothetical samples corresponding to 23 species of gilled mushrooms in the Agaricus and Lepiota Family. Each species is identified as definitely edible, definitely poisonous, or of unknown edibility and not recommended. This latter class was combined with the poisonous\n",
    "one (=there are only two classes **edible** and **poisonous**). \n",
    "    \n",
    "The dataset contains 8124 observations with 22 features:\n",
    "1. cap-shape: bell=b,conical=c,convex=x,flat=f,knobbed=k,sunken=s\n",
    "2. cap-surface: fibrous=f,grooves=g,scaly=y,smooth=s\n",
    "3. cap-color: brown=n,buff=b,cinnamon=c,gray=g,green=r,pink=p,purple=u,red=e,white=w,yellow=y\n",
    "4. bruises: bruises=t,no=f\n",
    "5. odor: almond=a,anise=l,creosote=c,fishy=y,foul=f, musty=m,none=n,pungent=p,spicy=s\n",
    "6. gill-attachment: attached=a,descending=d,free=f,notched=n\n",
    "7. gill-spacing: close=c,crowded=w,distant=d\n",
    "8. gill-size: broad=b,narrow=n\n",
    "9. gill-color: black=k,brown=n,buff=b,chocolate=h,gray=g,green=r,orange=o,pink=p,purple=u,red=e,white=w,yellow=y\n",
    "10. stalk-shape: enlarging=e,tapering=t\n",
    "11. stalk-root: bulbous=b,club=c,cup=u,equal=e,rhizomorphs=z,rooted=r\n",
    "12. stalk-surface-above-ring: fibrous=f,scaly=y,silky=k,smooth=s\n",
    "13. stalk-surface-below-ring: fibrous=f,scaly=y,silky=k,smooth=s\n",
    "14. stalk-color-above-ring: brown=n,buff=b,cinnamon=c,gray=g,orange=o,pink=p,red=e,white=w,yellow=y\n",
    "15. stalk-color-below-ring: brown=n,buff=b,cinnamon=c,gray=g,orange=o,pink=p,red=e,white=w,yellow=y\n",
    "16. veil-type: partial=p,universal=u\n",
    "17. veil-color: brown=n,orange=o,white=w,yellow=y\n",
    "18. ring-number: none=n,one=o,two=t\n",
    "19. ring-type: cobwebby=c,evanescent=e,flaring=f,large=l,none=n,pendant=p,sheathing=s,zone=z\n",
    "20. spore-print-color: black=k,brown=n,buff=b,chocolate=h,green=r,orange=o,purple=u,white=w,yellow=y\n",
    "21. population: abundant=a,clustered=c,numerous=n,scattered=s,several=v,solitary=y\n",
    "22. habitat: grasses=g,leaves=l,meadows=m,paths=p,urban=u,waste=w,woods=d\n",
    "\n",
    "First, we will read and explore the data using pandas and the `.read_csv` method. Pandas is an open source library providing high-performance, easy-to-use data structures and data analysis tools for the Python programming language."
   ]
  },
  {
   "cell_type": "code",
   "execution_count": 3,
   "metadata": {
    "id": "ynnDbOJV6s5b",
    "nbgrader": {
     "grade": false,
     "grade_id": "cell-d79cb4542926ad3f",
     "locked": true,
     "schema_version": 1,
     "solution": false
    }
   },
   "outputs": [],
   "source": [
    "# load dataset\n",
    "data = pd.read_csv('agaricus-lepiota.csv')"
   ]
  },
  {
   "cell_type": "markdown",
   "metadata": {
    "id": "Hwsuo1zU6s5b"
   },
   "source": [
    "One of the advantages of the Decision Tree algorithm is that almost no preprocessing is required. However, finding missing values is always required."
   ]
  },
  {
   "cell_type": "code",
   "execution_count": 4,
   "metadata": {
    "id": "CxYAkOjM6s5c"
   },
   "outputs": [],
   "source": [
    "#############################################################################\n",
    "# TODO: Find the columns with missing values and remove them from the data.#\n",
    "#############################################################################\n",
    "col_missing = data.columns[data.isnull().any()].tolist()\n",
    "data = data.drop(col_missing, axis=1)\n",
    "#############################################################################\n",
    "#                             END OF YOUR CODE                              #\n",
    "#############################################################################"
   ]
  },
  {
   "cell_type": "markdown",
   "metadata": {
    "id": "PN4uyuh86s5c"
   },
   "source": [
    "We will split the dataset to `Training` and `Testing` datasets."
   ]
  },
  {
   "cell_type": "code",
   "execution_count": 5,
   "metadata": {
    "colab": {
     "base_uri": "https://localhost:8080/"
    },
    "id": "W-mG3i266s5c",
    "outputId": "83d3e9dc-2c00-4795-ecc1-94beb74e28eb"
   },
   "outputs": [
    {
     "name": "stdout",
     "output_type": "stream",
     "text": [
      "Training dataset shape:  (6093, 22)\n",
      "Testing dataset shape:  (2031, 22)\n"
     ]
    }
   ],
   "source": [
    "from sklearn.model_selection import train_test_split\n",
    "# Making sure the last column will hold the labels\n",
    "X, y = data.drop('class', axis=1), data['class']\n",
    "X = np.column_stack([X,y])\n",
    "# split dataset using random_state to get the same split each time\n",
    "X_train, X_test = train_test_split(X, random_state=99)\n",
    "\n",
    "print(\"Training dataset shape: \", X_train.shape)\n",
    "print(\"Testing dataset shape: \", X_test.shape)"
   ]
  },
  {
   "cell_type": "markdown",
   "metadata": {
    "id": "WLJXKl6G6s5d",
    "nbgrader": {
     "grade": false,
     "grade_id": "cell-fd7b0191f3f1e897",
     "locked": true,
     "schema_version": 1,
     "solution": false
    }
   },
   "source": [
    "## Impurity Measures\n",
    "\n",
    "Impurity is a measure of how often a randomly chosen element from the set would be incorrectly labeled if it was randomly labeled according to the distribution of labels in the subset. Implement the functions `calc_gini` and `calc_entropy`. You are encouraged to test your implementation (10 points)."
   ]
  },
  {
   "cell_type": "code",
   "execution_count": 6,
   "metadata": {
    "id": "8l4bXTs16s5d"
   },
   "outputs": [],
   "source": [
    "def calc_gini(data):\n",
    "    \"\"\"\n",
    "    Calculate gini impurity measure of a dataset.\n",
    " \n",
    "    Input:\n",
    "    - data: any dataset where the last column holds the labels.\n",
    " \n",
    "    Returns the gini impurity.    \n",
    "    \"\"\"\n",
    "    gini = 0.0\n",
    "    ###########################################################################\n",
    "    # TODO: Implement the function.                                           #\n",
    "    ###########################################################################\n",
    "    shape = data.shape[0]\n",
    "    _, counts = np.unique(data[:,-1:], return_counts=True)\n",
    "    gini = 1 - sum((counts/shape)**2)\n",
    "    ###########################################################################\n",
    "    #                             END OF YOUR CODE                            #\n",
    "    ###########################################################################\n",
    "    return gini"
   ]
  },
  {
   "cell_type": "code",
   "execution_count": 7,
   "metadata": {
    "id": "GXP_eGrd6s5e"
   },
   "outputs": [],
   "source": [
    "def calc_entropy(data):\n",
    "    \"\"\"\n",
    "    Calculate the entropy of a dataset.\n",
    "\n",
    "    Input:\n",
    "    - data: any dataset where the last column holds the labels.\n",
    "\n",
    "    Returns the entropy of the dataset.    \n",
    "    \"\"\"\n",
    "    entropy = 0.0\n",
    "    ###########################################################################\n",
    "    # TODO: Implement the function.                                           #\n",
    "    ###########################################################################\n",
    "    shape = data.shape[0]\n",
    "    _, counts = np.unique(data[:,-1:], return_counts=True)\n",
    "    P = counts / shape\n",
    "    logP = np.log2(P)\n",
    "    entropy = sum(-P*logP)\n",
    "    ###########################################################################\n",
    "    #                             END OF YOUR CODE                            #\n",
    "    ###########################################################################\n",
    "    return entropy"
   ]
  },
  {
   "cell_type": "code",
   "execution_count": 8,
   "metadata": {
    "colab": {
     "base_uri": "https://localhost:8080/"
    },
    "id": "GZrFeork6s5e",
    "outputId": "8deeaf0c-bab9-477b-ea01-773962805eb0",
    "scrolled": true
   },
   "outputs": [
    {
     "data": {
      "text/plain": "(0.4995636322379775, 0.9993703627906085)"
     },
     "execution_count": 8,
     "metadata": {},
     "output_type": "execute_result"
    }
   ],
   "source": [
    "##### Your Tests Here #####\n",
    "calc_gini(X), calc_entropy(X)"
   ]
  },
  {
   "cell_type": "markdown",
   "metadata": {
    "id": "-urHHpDf6s5e"
   },
   "source": [
    "## Goodness of Split\n",
    "\n",
    "Given a feature the Goodnees of Split measures the reduction in the impurity if we split the data according to the feature.\n",
    "$$\n",
    "\\Delta\\varphi(S, A) = \\varphi(S) - \\sum_{v\\in Values(A)} \\frac{|S_v|}{|S|}\\varphi(S_v)\n",
    "$$\n",
    "\n",
    "In our implementation the goodness_of_split function will return either the Goodness of Split or the Gain Ratio as learned in class. You'll control the return value with the `gain_ratio` parameter. If this parameter will set to False (the default value) it will return the regular Goodness of Split. If it will set to True it will return the Gain Ratio.\n",
    "$$\n",
    "GainRatio(S,A)=\\frac{InformationGain(S,A)}{SplitInformation(S,A)}\n",
    "$$\n",
    "Where:\n",
    "$$\n",
    "InformationGain(S,A)=Goodness\\ of\\ Split\\ calculated\\ with\\ Entropy\\ as\\ the\\ Impurity\\ function \\\\\n",
    "SplitInformation(S,A)=- \\sum_{a\\in A} \\frac{|S_a|}{|S|}\\log\\frac{|S_a|}{|S|}\n",
    "$$\n",
    "NOTE: you can add more parameters to the function and you can also add more returning variables (The given parameters and the given returning variable should not be touch). (10 Points)"
   ]
  },
  {
   "cell_type": "code",
   "execution_count": 9,
   "metadata": {
    "id": "WLV--oqC6s5e"
   },
   "outputs": [],
   "source": [
    "def goodness_of_split(data, feature, impurity_func, gain_ratio=False):\n",
    "    \"\"\"\n",
    "    Calculate the goodness of split of a dataset given a feature and impurity function.\n",
    "\n",
    "    Input:\n",
    "    - data: any dataset where the last column holds the labels.\n",
    "    - feature: the feature index.\n",
    "    - impurity func: a function that calculates the impurity.\n",
    "    - gain_ratio: goodness of split or gain ratio flag.\n",
    "\n",
    "    Returns the goodness of split (or the Gain Ration).  \n",
    "    \"\"\"\n",
    "    ###########################################################################\n",
    "    # TODO: Implement the function.                                           #\n",
    "    ###########################################################################\n",
    "       \n",
    "    unique_values, counts = np.unique(data[:,feature], return_counts=True)\n",
    "    shape = data.shape[0]\n",
    "    sigma = 0\n",
    "    for value, count in zip(unique_values, counts):\n",
    "        value_data = data[data[:,feature]==value]\n",
    "        sigma += (count/shape)*impurity_func(value_data)\n",
    "            \n",
    "    goodness = impurity_func(data) - sigma\n",
    "    \n",
    "    if gain_ratio:\n",
    "        S = counts / shape\n",
    "        logS = np.log2(S)\n",
    "        split_info = np.sum(-S*logS)\n",
    "        if split_info != 0:\n",
    "            goodness = goodness / split_info # gain ratio\n",
    "    ###########################################################################\n",
    "    #                             END OF YOUR CODE                            #\n",
    "    ###########################################################################\n",
    "    return goodness    "
   ]
  },
  {
   "cell_type": "markdown",
   "metadata": {
    "id": "h3qa9f496s5f"
   },
   "source": [
    "## Building a Decision Tree\n",
    "\n",
    "Use a Python class to construct the decision tree. Your class should support the following functionality:\n",
    "\n",
    "1. Initiating a node for a decision tree. You will need to use several class methods and class attributes and you are free to use them as you see fit. We recommend that every node will hold the feature and value used for the split and its children.\n",
    "2. Your code should support both Gini and Entropy as impurity measures. \n",
    "3. The provided data includes categorical data. In this exercise, when splitting a node create the number of children needed according to the attribute unique values.\n",
    "\n",
    "Complete the class `DecisionNode`. The structure of this class is entirely up to you. \n",
    "\n",
    "Complete the function `build_tree`. This function should get the training dataset and the impurity as inputs, initiate a root for the decision tree and construct the tree according to the procedure you learned in class. (30 points)"
   ]
  },
  {
   "cell_type": "code",
   "execution_count": 10,
   "metadata": {
    "id": "oIvYjlwJ6s5f"
   },
   "outputs": [],
   "source": [
    "class DecisionNode:\n",
    "    \"\"\"\n",
    "    This class will hold everything you require to construct a decision tree.\n",
    "    The structure of this class is up to you. However, you need to support basic \n",
    "    functionality as described above. It is highly recommended that you \n",
    "    first read and understand the entire exercise before diving into this class.\n",
    "    \"\"\"\n",
    "    def __init__(self, data, impurity, value='root'):\n",
    "        self.feature_was_split = -1 # column index of criteria being tested\n",
    "        self.feature_to_split = -1 # the best feature to split by\n",
    "        self.value = value # the value in which the Node is duplicated by\n",
    "        self.avb_features = [f for f in range(data.shape[1]-1)]\n",
    "        self.data = data  \n",
    "        self.children = []\n",
    "        self.impurity_func = impurity\n",
    "        self.depth = 0\n",
    "        self.label = 'label'\n",
    "        \n",
    "    def __str__(self):\n",
    "        return str(self.feature_was_split)+\" \"+str(self.value)+\" \"+str(self.label)+\" \"+str([(c.feature_was_split, c.value) for c in self.children])\n",
    "        \n",
    "    def add_child(self, node):\n",
    "        self.children.append(node)\n",
    "            \n",
    "    def find_best_split(self, gain_ratio=False):\n",
    "        d = {}\n",
    "        for feature in self.avb_features:\n",
    "            d[feature] = goodness_of_split(self.data, feature, self.impurity_func, gain_ratio)\n",
    "        \n",
    "        if max(d.values()) == 0:\n",
    "            return -1\n",
    "        \n",
    "        return max(d, key=d.get)\n",
    "    \n",
    "    \n",
    "    def split_data_set(self, feature, value):\n",
    "        new_data = self.data[np.where(self.data[:,feature]==value)]\n",
    "        return new_data if all(new_data.shape) else None\n",
    "      \n",
    "    def create_children(self, feature):\n",
    "        values = np.unique(self.data[:,feature]) #find unique values (labels)\n",
    "        for value in values:\n",
    "            self.create_child(feature, value)\n",
    "    \n",
    "    def create_child(self, feature, value):\n",
    "            data = self.split_data_set(feature, value)\n",
    "            if data is not None:\n",
    "                child = DecisionNode(data, self.impurity_func)\n",
    "                child.value = value #data[0, feature] #=value\n",
    "                child.depth = self.depth + 1\n",
    "                child.avb_features = [f for f in self.avb_features if f != feature]\n",
    "                child.feature_was_split = feature\n",
    "                # find the most common label\n",
    "                labels, counts = np.unique(child.data[:,-1:], return_counts=True)\n",
    "                child.label = labels[np.argmax(counts)]\n",
    "                \n",
    "                self.add_child(child)\n",
    "       \n"
   ]
  },
  {
   "cell_type": "code",
   "execution_count": 11,
   "metadata": {},
   "outputs": [],
   "source": [
    "def build_tree(data, impurity, gain_ratio=False, chi=1, max_depth=1000):\n",
    "    \"\"\"\n",
    "    Build a tree using the given impurity measure and training dataset. \n",
    "    You are required to fully grow the tree until all leaves are pure. \n",
    "\n",
    "    Input:\n",
    "    - data: the raining dataset.\n",
    "    - impurity: the chosen impurity measure. Notice that you can send a function\n",
    "                as an argument in python.\n",
    "    - gain_ratio: goodness of split or gain ratio flag\n",
    "    - chi: chi square p-value cut off (1 means no pruning)\n",
    "    - max_depth: the allowable depth of the tree\n",
    "\n",
    "    Output: the root node of the tree.\n",
    "    \"\"\"\n",
    "    root = None\n",
    "    ###########################################################################\n",
    "    # TODO: Implement the function.                                           #\n",
    "    ###########################################################################\n",
    "    nodes_queue = Queue() # queue to hold the node\n",
    "    \n",
    "    # intinliaze the root node\n",
    "    root = DecisionNode(data, impurity)\n",
    "    nodes_queue.put(root)\n",
    "    \n",
    "    while nodes_queue.empty() is not True:\n",
    "        # if the queue is empty then stop\n",
    "        try:   \n",
    "            node = nodes_queue.get_nowait()\n",
    "        except:\n",
    "            continue\n",
    "                 \n",
    "        # stop conditions:\n",
    "        # no avaible feature\n",
    "        # max depth\n",
    "        # pure node\n",
    "        if node.avb_features == [] or node.depth == max_depth or len(np.unique(node.data[:,-1:])) == 1:\n",
    "            continue\n",
    "            \n",
    "        best_feature = node.find_best_split(gain_ratio)\n",
    "        node.feature_to_split = best_feature\n",
    "        if best_feature == -1:\n",
    "            continue\n",
    "            \n",
    "        else:\n",
    "            if chi!=1:\n",
    "                chi_check = chi_square(node.data, best_feature)\n",
    "                num_of_att = np.unique(node.data[:,best_feature]) #find unique values (labels)\n",
    "                deg_of_freedome = len(num_of_att) - 1\n",
    "            \n",
    "                if chi_check > chi_table[deg_of_freedome][chi]:\n",
    "                    node.create_children(node.find_best_split(gain_ratio))\n",
    "                    for child in node.children: # add the new childern nodes to the queue\n",
    "                        nodes_queue.put(child)\n",
    "                else:\n",
    "                    continue\n",
    "                        \n",
    "            else:\n",
    "                node.create_children(best_feature)\n",
    "                for child in node.children: # add the new childern nodes to the queue\n",
    "                    nodes_queue.put(child)\n",
    "        \n",
    "        \n",
    "    ###########################################################################\n",
    "    #                             END OF YOUR CODE                            #\n",
    "    ###########################################################################\n",
    "    return root\n"
   ]
  },
  {
   "cell_type": "code",
   "execution_count": 12,
   "metadata": {
    "id": "vY3gJ1WG6s5h"
   },
   "outputs": [],
   "source": [
    "# python supports passing a function as an argument to another function.\n",
    "tree_gini = build_tree(data=X_train, impurity=calc_gini) # gini and goodness of split\n",
    "tree_entropy = build_tree(data=X_train, impurity=calc_entropy) # entropy and goodness of split\n",
    "tree_entropy_gain_ratio = build_tree(data=X_train, impurity=calc_entropy, gain_ratio=True) # entropy and gain ratio"
   ]
  },
  {
   "cell_type": "markdown",
   "metadata": {
    "id": "5FOfG_Uz6s5h"
   },
   "source": [
    "## Tree evaluation\n",
    "\n",
    "Complete the functions `predict` and `calc_accuracy`. (10 points)"
   ]
  },
  {
   "cell_type": "code",
   "execution_count": 13,
   "metadata": {},
   "outputs": [],
   "source": [
    "def predict(node, instance):\n",
    "    \"\"\"\n",
    "    Predict a given instance using the decision tree\n",
    " \n",
    "    Input:\n",
    "    - root: the root of the decision tree.\n",
    "    - instance: an row vector from the dataset. Note that the last element \n",
    "                of this vector is the label of the instance.\n",
    " \n",
    "    Output: the prediction of the instance.\n",
    "    \"\"\"\n",
    "    pred = None\n",
    "    ###########################################################################\n",
    "    # TODO: Implement the function.                                           #\n",
    "    ###########################################################################\n",
    "    flag = False\n",
    "    \n",
    "    while True:\n",
    "        if node.children == [] or flag:\n",
    "            return node.label\n",
    "        \n",
    "        value = instance[node.feature_to_split]\n",
    "           \n",
    "        for child in node.children:\n",
    "            if child.value == value:\n",
    "                node = child\n",
    "                flag = False\n",
    "                break\n",
    "            else:\n",
    "                flag = True\n",
    "    ###########################################################################\n",
    "    #                             END OF YOUR CODE                            #\n",
    "    ###########################################################################\n",
    "    return node.pred"
   ]
  },
  {
   "cell_type": "code",
   "execution_count": 14,
   "metadata": {},
   "outputs": [],
   "source": [
    "def calc_accuracy(node, dataset):\n",
    "    \"\"\"\n",
    "    Predict a given dataset using the decision tree\n",
    " \n",
    "    Input:\n",
    "    - node: a node in the decision tree.\n",
    "    - dataset: the dataset on which the accuracy is evaluated\n",
    " \n",
    "    Output: the accuracy of the decision tree on the given dataset (%).\n",
    "    \"\"\"\n",
    "    accuracy = 0\n",
    "    ###########################################################################\n",
    "    # TODO: Implement the function.                                           #\n",
    "    ###########################################################################\n",
    "    m, _ = dataset.shape\n",
    "    counter = 0\n",
    "    for i in range(m):\n",
    "        instance = dataset[i]\n",
    "        pred = predict(node, instance)\n",
    "        if pred == instance[-1]:\n",
    "            counter += 1\n",
    "    accuracy = counter / m\n",
    "    ###########################################################################\n",
    "    #                             END OF YOUR CODE                            #\n",
    "    ###########################################################################\n",
    "    return accuracy "
   ]
  },
  {
   "cell_type": "markdown",
   "metadata": {
    "id": "RIq8mbganiCq"
   },
   "source": [
    "After building the three trees using the training set, you should calculate the accuracy on the test set. For each tree print the training and test accuracy. Select the tree that gave you the best test accuracy. For the rest of the exercise, use that tree (when you asked to build another tree use the same impurity function and same gain_ratio flag)."
   ]
  },
  {
   "cell_type": "code",
   "execution_count": 15,
   "metadata": {
    "colab": {
     "base_uri": "https://localhost:8080/"
    },
    "id": "AZdX4rfA6s5i",
    "outputId": "12d15ddf-d1c2-4533-c78a-cab29dfe58b8"
   },
   "outputs": [
    {
     "name": "stdout",
     "output_type": "stream",
     "text": [
      "tree_gini: train: 0.992, test: 0.7750\n",
      "tree_entropy: train: 0.994, test: 0.7725\n",
      "tree_entropy_gain_ratio: train: 0.996, test: 0.7853\n"
     ]
    }
   ],
   "source": [
    "trees = {'tree_gini': tree_gini, \n",
    "         'tree_entropy': tree_entropy,\n",
    "         'tree_entropy_gain_ratio': tree_entropy_gain_ratio}\n",
    "\n",
    "for name, tree in trees.items():\n",
    "    train_acc = calc_accuracy(tree, X_train)\n",
    "    test_acc = calc_accuracy(tree, X_test)\n",
    "    print('{}: train: {:.3f}, test: {:.4f}'.format(name, train_acc, test_acc))"
   ]
  },
  {
   "cell_type": "markdown",
   "metadata": {
    "id": "aOhp1c786s5j"
   },
   "source": [
    "## Post pruning\n",
    "\n",
    "Iterate over all nodes in the tree that have at least a single child which is a leaf. For each such node, replace it with its most popular class. Calculate the accuracy on the testing dataset, pick the node that results in the highest testing accuracy and permanently change it in the tree. Repeat this process until you are left with a single node in the tree (the root). Finally, create a plot of the training and testing accuracies as a function of the number of nodes in the tree. (15 points)"
   ]
  },
  {
   "cell_type": "code",
   "execution_count": 16,
   "metadata": {
    "id": "o04QVJDRPmwc"
   },
   "outputs": [],
   "source": [
    "# This is the exact function from the \"Number of nodes part\"\n",
    "# We are using it here also\n",
    "def count_nodes(node):\n",
    "    \"\"\"\n",
    "    Count the number of node in a given tree\n",
    " \n",
    "    Input:\n",
    "    - node: a node in the decision tree.\n",
    " \n",
    "    Output: the number of node in the tree.\n",
    "    \"\"\"\n",
    "    ###########################################################################\n",
    "    # TODO: Implement the function.                                           #\n",
    "    ###########################################################################\n",
    "    nodes_queue = Queue() # queue to hold the node\n",
    "    count = 0\n",
    "\n",
    "    nodes_queue.put(node) # insert the root node\n",
    "    while nodes_queue.empty() is not True:\n",
    "        # if the queue is empty then stop\n",
    "        try:   \n",
    "            node = nodes_queue.get_nowait()\n",
    "        except:\n",
    "            continue\n",
    "        \n",
    "        count += 1\n",
    "\n",
    "        for child in node.children:\n",
    "            nodes_queue.put(child)\n",
    "    \n",
    "    return count\n",
    "    ###########################################################################\n",
    "    #                             END OF YOUR CODE                            #\n",
    "    ###########################################################################"
   ]
  },
  {
   "cell_type": "code",
   "execution_count": 17,
   "metadata": {},
   "outputs": [],
   "source": [
    "def find_node_to_remove(root):\n",
    "    # condition = at least one child which is a leaf\n",
    "    node_list = [] # will hold all the nodes with the condition\n",
    "    node_queue = Queue()\n",
    "    leaf = False\n",
    "    \n",
    "    node_queue.put(root)\n",
    "    while node_queue.empty() is not True:\n",
    "        # if the queue is empty then stop\n",
    "        try:\n",
    "            node = node_queue.get_nowait()\n",
    "        except:\n",
    "            continue\n",
    "            \n",
    "        for child in node.children:\n",
    "            if child.children == []:\n",
    "                leaf = True\n",
    "            node_queue.put(child)\n",
    "            \n",
    "        if leaf:\n",
    "            node_list.append(node)\n",
    "            leaf = False\n",
    "            \n",
    "    return node_list\n",
    "\n",
    "def build_plot(number_of_nodes, train_acc, test_acc):\n",
    "    plt.plot(number_of_nodes, train_acc, color='g')\n",
    "    plt.plot(number_of_nodes, test_acc, color='b')\n",
    "    plt.xlabel('Number of Nodes')\n",
    "    plt.ylabel('Accuracy')\n",
    "    plt.title('Accuracy as a function of the number of nodes')\n",
    "    plt.legend(['Train Accuracy', 'Test Accuracy']);\n",
    "    plt.show()\n",
    "\n",
    "\n",
    "def change_tree(root, check=0):\n",
    "    \n",
    "    number_of_nodes = []\n",
    "    train_acc = []\n",
    "    test_acc = []\n",
    "    \n",
    "    # Save parameters of the initial tree\n",
    "    number_of_nodes.append(count_nodes(root))\n",
    "    train_acc.append(calc_accuracy(root, X_train))\n",
    "    test_acc.append(calc_accuracy(root, X_test))\n",
    "    \n",
    "    nodes_to_check = find_node_to_remove(root)\n",
    "    \n",
    "    while root.children:\n",
    "        max_accur = 0\n",
    "        best_node_to_remove = []\n",
    "        for node in nodes_to_check:\n",
    "            temp_node_children = node.children\n",
    "            node.children = []\n",
    "            curr_accur = calc_accuracy(root, X_test)\n",
    "\n",
    "            if curr_accur > max_accur:\n",
    "                best_node_to_remove = node\n",
    "                max_accur = curr_accur\n",
    "\n",
    "            node.children = temp_node_children    \n",
    "\n",
    "        best_node_to_remove.children = []\n",
    "        \n",
    "        # Save parameters of the new prunned tree\n",
    "        number_of_nodes.append(count_nodes(root))\n",
    "        train_acc.append(calc_accuracy(root, X_train))\n",
    "        test_acc.append(calc_accuracy(root, X_test))\n",
    "        nodes_to_check = find_node_to_remove(root)\n",
    "        if len(nodes_to_check) == 1 and check == 0: # Stop when we arrive to the root\n",
    "            best_num_of_nodes = number_of_nodes[test_acc.index(max(test_acc))]\n",
    "            print(f\"The best tree is recieved using {best_num_of_nodes} nodes\")\n",
    "            build_plot(number_of_nodes, train_acc, test_acc)\n",
    "            break\n",
    "        if check == number_of_nodes[-1]:\n",
    "            return root"
   ]
  },
  {
   "cell_type": "code",
   "execution_count": 18,
   "metadata": {
    "colab": {
     "base_uri": "https://localhost:8080/",
     "height": 329
    },
    "id": "FlKOM3nBPmwc",
    "outputId": "f60f58b7-8917-4ed7-81ef-322a7bc29205"
   },
   "outputs": [
    {
     "name": "stdout",
     "output_type": "stream",
     "text": [
      "The best tree is recieved using 185 nodes\n"
     ]
    },
    {
     "data": {
      "text/plain": "<Figure size 720x576 with 1 Axes>",
      "image/png": "[encoded data removed]"
     },
     "metadata": {
      "needs_background": "light"
     },
     "output_type": "display_data"
    }
   ],
   "source": [
    "tree_post_pruning = change_tree(tree_entropy_gain_ratio)"
   ]
  },
  {
   "cell_type": "markdown",
   "metadata": {
    "id": "IieH-FiK6s5j"
   },
   "source": [
    "## Chi square pre-pruning\n",
    "\n",
    "Consider the following p-value cut-off values: [1 (no pruning), 0.5, 0.25, 0.1, 0.05, 0.0001 (max pruning)]. For each value, construct a tree and prune it according to the cut-off value. Next, calculate the training and testing accuracy. On a single plot, draw the training and testing accuracy as a function of the tuple (p-value, tree depth). Mark the best result on the graph with red circle. (15 points)"
   ]
  },
  {
   "cell_type": "code",
   "execution_count": 19,
   "metadata": {},
   "outputs": [],
   "source": [
    "def tree_highet(root):\n",
    "    node_queue = Queue()\n",
    "    highet = 0\n",
    "    node_queue.put(root)\n",
    "    while node_queue.empty() is not True:\n",
    "        # if the queue is empty then stop\n",
    "        try:   \n",
    "            node = node_queue.get_nowait()\n",
    "        except:\n",
    "            continue\n",
    "        \n",
    "        if node.depth > highet:\n",
    "            highet = node.depth\n",
    "        \n",
    "        for child in node.children:\n",
    "            node_queue.put(child)\n",
    "    \n",
    "    return highet"
   ]
  },
  {
   "cell_type": "code",
   "execution_count": 20,
   "metadata": {
    "id": "5oWaTalT6s5j"
   },
   "outputs": [],
   "source": [
    "### Chi square table values ###\n",
    "# The first key is the degree of freedom \n",
    "# The second key is the p-value cut-off\n",
    "# The values are the chi-statistic that you need to use in the pruning\n",
    "chi_table = {1: {0.5 : 0.45,\n",
    "                 0.25 : 1.32,\n",
    "                 0.1 : 2.71,\n",
    "                 0.05 : 3.84,\n",
    "                 0.0001 : 100000},\n",
    "             2: {0.5 : 1.39,\n",
    "                 0.25 : 2.77,\n",
    "                 0.1 : 4.60,\n",
    "                 0.05 : 5.99,\n",
    "                 0.0001 : 100000},\n",
    "             3: {0.5 : 2.37,\n",
    "                 0.25 : 4.11,\n",
    "                 0.1 : 6.25,\n",
    "                 0.05 : 7.82,\n",
    "                 0.0001 : 100000},\n",
    "             4: {0.5 : 3.36,\n",
    "                 0.25 : 5.38,\n",
    "                 0.1 : 7.78,\n",
    "                 0.05 : 9.49,\n",
    "                 0.0001 : 100000},\n",
    "             5: {0.5 : 4.35,\n",
    "                 0.25 : 6.63,\n",
    "                 0.1 : 9.24,\n",
    "                 0.05 : 11.07,\n",
    "                 0.0001 : 100000},\n",
    "             6: {0.5 : 5.35,\n",
    "                 0.25 : 7.84,\n",
    "                 0.1 : 10.64,\n",
    "                 0.05 : 12.59,\n",
    "                 0.0001 : 100000},\n",
    "             7: {0.5 : 6.35,\n",
    "                 0.25 : 9.04,\n",
    "                 0.1 : 12.01,\n",
    "                 0.05 : 14.07,\n",
    "                 0.0001 : 100000},\n",
    "             8: {0.5 : 7.34,\n",
    "                 0.25 : 10.22,\n",
    "                 0.1 : 13.36,\n",
    "                 0.05 : 15.51,\n",
    "                 0.0001 : 100000},\n",
    "             9: {0.5 : 8.34,\n",
    "                 0.25 : 11.39,\n",
    "                 0.1 : 14.68,\n",
    "                 0.05 : 16.92,\n",
    "                 0.0001 : 100000},\n",
    "             10: {0.5 : 9.34,\n",
    "                  0.25 : 12.55,\n",
    "                  0.1 : 15.99,\n",
    "                  0.05 : 18.31,\n",
    "                  0.0001 : 100000},\n",
    "             11: {0.5 : 10.34,\n",
    "                  0.25 : 13.7,\n",
    "                  0.1 : 17.27,\n",
    "                  0.05 : 19.68,\n",
    "                  0.0001 : 100000}}"
   ]
  },
  {
   "cell_type": "code",
   "execution_count": 21,
   "metadata": {
    "id": "HzxDUC-36s5j"
   },
   "outputs": [],
   "source": [
    "def chi_square(node_data, feature): \n",
    "    \n",
    "    chi_sqr = []\n",
    "    chi_sqr_sum = 0\n",
    "    \n",
    "    parent_df = pd.DataFrame(node_data[:, feature], columns=['feature'])\n",
    "    parent_df['class'] = node_data[:, -1]\n",
    "    \n",
    "    \n",
    "    children = np.unique(parent_df['feature']) #find unique values (labels)\n",
    "    parent_e = (parent_df['class'] == 'e').sum()\n",
    "    parent_p = (parent_df['class'] == 'p').sum()\n",
    "\n",
    "    e_percent = parent_e / (parent_e + parent_p)\n",
    "    p_percent = parent_p / (parent_e + parent_p)\n",
    "    \n",
    "\n",
    "    for child in children:\n",
    "        mask = parent_df['feature'] == child\n",
    "        test = parent_df[mask][['class']].reset_index(drop=True)\n",
    "\n",
    "        e_actual = (test['class'] == 'e').sum()\n",
    "        p_actual = (test['class'] == 'p').sum()\n",
    "                \n",
    "        e_expect = (e_actual + p_actual) * e_percent\n",
    "        p_expect = (e_actual + p_actual) * p_percent\n",
    "        \n",
    "        e_chi = ((e_actual-e_expect)**2) / (e_expect)\n",
    "        p_chi = ((p_actual-p_expect)**2) / (p_expect)\n",
    "        \n",
    "        chi_sqr.append(e_chi)\n",
    "        chi_sqr.append(p_chi)\n",
    "        \n",
    "\n",
    "    for i in chi_sqr:\n",
    "        chi_sqr_sum += i\n",
    "        \n",
    "    return chi_sqr_sum\n",
    "        "
   ]
  },
  {
   "cell_type": "code",
   "execution_count": 22,
   "metadata": {},
   "outputs": [
    {
     "name": "stdout",
     "output_type": "stream",
     "text": [
      "The best tree is recieved using P-value 0.05\n"
     ]
    },
    {
     "data": {
      "text/plain": "<Figure size 720x576 with 1 Axes>",
      "image/png": "[encoded data removed]"
     },
     "metadata": {
      "needs_background": "light"
     },
     "output_type": "display_data"
    }
   ],
   "source": [
    "test_acc = []\n",
    "train_acc = []\n",
    "pval_depth = []\n",
    "pvals = []\n",
    "p_vals_arr=[0.5, 0.25, 0.1, 0.05, 0.0001]\n",
    "p_vals_arr.sort()\n",
    "\n",
    "for pval in p_vals_arr:\n",
    "    tree_chi = build_tree(X_train, calc_entropy, chi=pval, gain_ratio=True)\n",
    "    pvals.append(pval)\n",
    "    train_acc_val = calc_accuracy(tree_chi, X_train)\n",
    "    test_acc_val = calc_accuracy(tree_chi, X_test)\n",
    "    pval_depth.append((pval, tree_highet(tree_chi)))\n",
    "    if train_acc_val or test_acc_val:\n",
    "        train_acc.append(train_acc_val)\n",
    "        test_acc.append(test_acc_val)\n",
    "    else:\n",
    "        train_count_e = np.sum(X_train[:,-1] == 'e')\n",
    "        test_count_e = np.sum(X_test[:,-1] == 'e')\n",
    "        train_count_p = np.sum(X_train[:,-1] == 'p')\n",
    "        test_count_p = np.sum(X_test[:,-1] == 'p')\n",
    "        if test_count_e > test_count_p:\n",
    "            train_acc_val = train_count_e / X_train.shape[0]\n",
    "            test_acc_val = test_count_e / X_test.shape[0]\n",
    "            train_acc.append(train_acc_val)\n",
    "            test_acc.append(test_acc_val)\n",
    "        else:\n",
    "            train_acc_val = train_count_p / X_train.shape[0]\n",
    "            test_acc_val = test_count_p / X_test.shape[0]\n",
    "            train_acc.append(train_acc_val)\n",
    "            test_acc.append(test_acc_val)\n",
    "\n",
    "best_pval_plot = test_acc.index(max(test_acc)) \n",
    "best_pval = pvals[test_acc.index(max(test_acc))]\n",
    "print(f\"The best tree is recieved using P-value {best_pval}\")\n",
    "\n",
    "\n",
    "plt.plot(pvals, train_acc, markevery = [best_pval_plot], marker = \"o\", markerfacecolor = 'red', markersize = 10, color='g')\n",
    "plt.plot(pvals, test_acc, markevery = [best_pval_plot], marker = \"o\", markerfacecolor = 'red', markersize = 10, color='b')\n",
    "plt.xlabel('(P_value, Tree_Depth)')\n",
    "plt.xticks(pvals, pval_depth , rotation ='vertical')\n",
    "plt.ylabel('Accuracy')\n",
    "plt.title('Accuracy as a function of (P_value, Tree Depth)')\n",
    "plt.legend(['Train Accuracy', 'Test Accuracy'])\n",
    "plt.grid(True)\n",
    "plt.show()"
   ]
  },
  {
   "cell_type": "markdown",
   "metadata": {
    "id": "HD7QKiiS6s5j"
   },
   "source": [
    "Build the best 2 trees:\n",
    "1. tree_post_pruning - the best tree according to post pruning\n",
    "2. tree_chi - the best tree according to chi square pruning"
   ]
  },
  {
   "cell_type": "code",
   "execution_count": 23,
   "metadata": {
    "id": "SUVwalAU6s5j"
   },
   "outputs": [],
   "source": [
    "tree_entropy_gain_ratio = build_tree(data=X_train, impurity=calc_entropy, gain_ratio=True) # rebuild the tree\n",
    "tree_post_pruning = change_tree(tree_entropy_gain_ratio, check=185) #tree_post_pruning\n",
    "\n",
    "tree_chi = build_tree(data=X_train, impurity=calc_entropy, gain_ratio=True, chi=0.05) #tree_chi"
   ]
  },
  {
   "cell_type": "markdown",
   "metadata": {
    "id": "_VowiLjN6s5k"
   },
   "source": [
    "## Number of Nodes\n",
    "\n",
    "Of the two trees above we will choose the one with fewer nodes. Complete the function counts_nodes and print the number of nodes in each tree. (5 points) "
   ]
  },
  {
   "cell_type": "code",
   "execution_count": 24,
   "metadata": {
    "id": "Z9rDfqWh6s5k"
   },
   "outputs": [],
   "source": [
    "def count_nodes(node):\n",
    "    \"\"\"\n",
    "    Count the number of node in a given tree\n",
    " \n",
    "    Input:\n",
    "    - node: a node in the decision tree.\n",
    " \n",
    "    Output: the number of node in the tree.\n",
    "    \"\"\"\n",
    "    ###########################################################################\n",
    "    # TODO: Implement the function.                                           #\n",
    "    ###########################################################################\n",
    "    nodes_queue = Queue() # queue to hold the node\n",
    "    count = 0\n",
    "\n",
    "    nodes_queue.put(node) # insert the root node\n",
    "    while nodes_queue.empty() is not True:\n",
    "        # if the queue is empty then stop\n",
    "        try:   \n",
    "            node = nodes_queue.get_nowait()\n",
    "        except:\n",
    "            continue\n",
    "        \n",
    "        count += 1\n",
    "\n",
    "        for child in node.children:\n",
    "            nodes_queue.put(child)\n",
    "    \n",
    "    return count\n",
    "    ###########################################################################\n",
    "    #                             END OF YOUR CODE                            #\n",
    "    ###########################################################################\n",
    "    "
   ]
  },
  {
   "cell_type": "markdown",
   "metadata": {
    "id": "S6M3Q6Db6s5k"
   },
   "source": [
    "## Print the tree\n",
    "\n",
    "Complete the function `print_tree` and execute it on your chosen tree. Your tree should be visualized clearly. You can use the following example as a reference:\n",
    "```\n",
    "[ROOT, feature=X0],\n",
    "  [X0=a, feature=X2]\n",
    "    [X2=c, leaf]: [{1.0: 10}]\n",
    "    [X2=d, leaf]: [{0.0: 10}]\n",
    "  [X0=y, feature=X5], \n",
    "    [X5=a, leaf]: [{1.0: 5}]\n",
    "    [X5=s, leaf]: [{0.0: 10}]\n",
    "  [X0=e, leaf]: [{0.0: 25, 1.0: 50}]\n",
    "```\n",
    "In each brackets:\n",
    "* The first argument is the parent feature with the value that led to current node\n",
    "* The second argument is the selected feature of the current node\n",
    "* If the current node is a leaf, you need to print also the labels and their counts\n",
    "\n",
    "(5 points)"
   ]
  },
  {
   "cell_type": "code",
   "execution_count": 25,
   "metadata": {
    "id": "k4rVvuGI6s5k"
   },
   "outputs": [],
   "source": [
    "# you can change the function signeture\n",
    "def print_tree(node):\n",
    "    '''\n",
    "    prints the tree according to the example above\n",
    "\n",
    "    Input:\n",
    "    - node: a node in the decision tree\n",
    "\n",
    "    This function has no return value\n",
    "    '''\n",
    "    ###########################################################################\n",
    "    # TODO: Implement the function.                                           #\n",
    "    ###########################################################################\n",
    "    def string_node(node):\n",
    "        # the function will print the node\n",
    "        \n",
    "        string = '[X{}={}, feature=X{}]'.format(node.feature_was_split, node.value, node.feature_to_split)\n",
    "        \n",
    "        #if the node is the root\n",
    "        if node.feature_was_split == -1:\n",
    "            string = '[root, feature=X{}]'.format(node.feature_to_split)\n",
    "            \n",
    "        # if the node is a leaf, calculate his lables\n",
    "        if node.children == []:\n",
    "            uniques, counts = np.unique(node.data[:,-1:], return_counts=True)\n",
    "            labels = {u: c for u, c in zip(uniques, counts)}\n",
    "            string = '[X{}={}, leaf]: {}'.format(node.feature_was_split, node.value, labels)\n",
    "        return string\n",
    "    \n",
    "    \n",
    "    nodes_queue = LifoQueue() # queue to hold the node\n",
    "    \n",
    "    nodes_queue.put(node)\n",
    "    while nodes_queue.empty() is not True:\n",
    "        # if the queue is empty then stop\n",
    "        try:   \n",
    "            node = nodes_queue.get_nowait()\n",
    "        except:\n",
    "            continue\n",
    "            \n",
    "        string = \" \"*node.depth*3 + string_node(node)\n",
    "        print(string)\n",
    "        \n",
    "        for child in node.children:\n",
    "            nodes_queue.put(child)\n",
    "            \n",
    "    ###########################################################################\n",
    "    #                             END OF YOUR CODE                            #\n",
    "    ###########################################################################"
   ]
  },
  {
   "cell_type": "code",
   "execution_count": 26,
   "outputs": [
    {
     "name": "stdout",
     "output_type": "stream",
     "text": [
      "[root, feature=X4]\n",
      "   [X4=y, leaf]: {'e': 49, 'p': 382}\n",
      "   [X4=s, feature=X13]\n",
      "      [X13=w, leaf]: {'e': 26, 'p': 190}\n",
      "      [X13=p, feature=X11]\n",
      "         [X11=s, feature=X0]\n",
      "            [X0=x, feature=X1]\n",
      "               [X1=y, feature=X20]\n",
      "                  [X20=p, feature=X2]\n",
      "                     [X2=n, feature=X10]\n",
      "                        [X10=s, feature=X12]\n",
      "                           [X12=w, leaf]: {'p': 1}\n",
      "                           [X12=p, leaf]: {'e': 1}\n",
      "                        [X10=k, leaf]: {'p': 1}\n",
      "                     [X2=e, leaf]: {'p': 3}\n",
      "                  [X20=l, leaf]: {'p': 4}\n",
      "                  [X20=d, leaf]: {'p': 7}\n",
      "               [X1=s, leaf]: {'p': 18}\n",
      "            [X0=k, leaf]: {'p': 30}\n",
      "            [X0=f, feature=X20]\n",
      "               [X20=p, feature=X2]\n",
      "                  [X2=n, feature=X1]\n",
      "                     [X1=y, leaf]: {'p': 4}\n",
      "                     [X1=s, feature=X10]\n",
      "                        [X10=s, feature=X12]\n",
      "                           [X12=w, leaf]: {'p': 1}\n",
      "                           [X12=p, leaf]: {'e': 1}\n",
      "                        [X10=k, leaf]: {'p': 2}\n",
      "                  [X2=e, feature=X1]\n",
      "                     [X1=y, feature=X10]\n",
      "                        [X10=s, leaf]: {'p': 1}\n",
      "                        [X10=k, feature=X12]\n",
      "                           [X12=w, leaf]: {'e': 1}\n",
      "                           [X12=p, leaf]: {'p': 1}\n",
      "                     [X1=s, leaf]: {'p': 3}\n",
      "               [X20=l, feature=X1]\n",
      "                  [X1=y, leaf]: {'p': 6}\n",
      "                  [X1=s, feature=X2]\n",
      "                     [X2=n, leaf]: {'p': 1}\n",
      "                     [X2=e, feature=X10]\n",
      "                        [X10=s, leaf]: {'p': 1}\n",
      "                        [X10=k, feature=X12]\n",
      "                           [X12=w, leaf]: {'p': 1}\n",
      "                           [X12=p, leaf]: {'e': 1}\n",
      "               [X20=d, leaf]: {'p': 9}\n",
      "         [X11=k, leaf]: {'e': 8, 'p': 96}\n",
      "   [X4=p, feature=X0]\n",
      "      [X0=x, feature=X1]\n",
      "         [X1=y, leaf]: {'p': 45}\n",
      "         [X1=s, feature=X2]\n",
      "            [X2=w, feature=X8]\n",
      "               [X8=w, leaf]: {'p': 5}\n",
      "               [X8=p, leaf]: {'p': 7}\n",
      "               [X8=n, feature=X19]\n",
      "                  [X19=v, feature=X18]\n",
      "                     [X18=n, leaf]: {'p': 1}\n",
      "                     [X18=k, feature=X20]\n",
      "                        [X20=u, leaf]: {'p': 1}\n",
      "                        [X20=g, leaf]: {'e': 1}\n",
      "                  [X19=s, leaf]: {'p': 2}\n",
      "               [X8=k, leaf]: {'p': 5}\n",
      "            [X2=n, leaf]: {'p': 23}\n",
      "      [X0=f, feature=X18]\n",
      "         [X18=n, feature=X8]\n",
      "            [X8=w, leaf]: {'p': 9}\n",
      "            [X8=p, leaf]: {'p': 13}\n",
      "            [X8=n, feature=X1]\n",
      "               [X1=y, leaf]: {'p': 6}\n",
      "               [X1=s, feature=X20]\n",
      "                  [X20=u, leaf]: {'p': 3}\n",
      "                  [X20=g, feature=X2]\n",
      "                     [X2=w, leaf]: {'p': 1}\n",
      "                     [X2=n, feature=X19]\n",
      "                        [X19=v, leaf]: {'e': 1}\n",
      "                        [X19=s, leaf]: {'p': 1}\n",
      "            [X8=k, leaf]: {'p': 10}\n",
      "         [X18=k, feature=X8]\n",
      "            [X8=w, feature=X1]\n",
      "               [X1=y, feature=X2]\n",
      "                  [X2=w, feature=X19]\n",
      "                     [X19=v, feature=X20]\n",
      "                        [X20=u, leaf]: {'e': 1}\n",
      "                        [X20=g, leaf]: {'p': 1}\n",
      "                     [X19=s, leaf]: {'p': 1}\n",
      "                  [X2=n, leaf]: {'p': 3}\n",
      "               [X1=s, leaf]: {'p': 7}\n",
      "            [X8=p, feature=X2]\n",
      "               [X2=w, feature=X19]\n",
      "                  [X19=v, leaf]: {'p': 2}\n",
      "                  [X19=s, feature=X1]\n",
      "                     [X1=y, leaf]: {'p': 1}\n",
      "                     [X1=s, feature=X20]\n",
      "                        [X20=u, leaf]: {'p': 1}\n",
      "                        [X20=g, leaf]: {'e': 1}\n",
      "               [X2=n, leaf]: {'p': 7}\n",
      "            [X8=n, feature=X1]\n",
      "               [X1=y, leaf]: {'p': 7}\n",
      "               [X1=s, feature=X2]\n",
      "                  [X2=w, leaf]: {'p': 2}\n",
      "                  [X2=n, feature=X20]\n",
      "                     [X20=u, leaf]: {'p': 1}\n",
      "                     [X20=g, leaf]: {'e': 2}\n",
      "            [X8=k, feature=X1]\n",
      "               [X1=y, feature=X20]\n",
      "                  [X20=u, leaf]: {'e': 2, 'p': 2}\n",
      "                  [X20=g, leaf]: {'p': 2}\n",
      "               [X1=s, leaf]: {'p': 6}\n",
      "   [X4=n, feature=X7]\n",
      "      [X7=n, feature=X3]\n",
      "         [X3=t, leaf]: {'p': 8}\n",
      "         [X3=f, feature=X10]\n",
      "            [X10=y, leaf]: {'p': 7}\n",
      "            [X10=s, leaf]: {'e': 118, 'p': 15}\n",
      "            [X10=k, leaf]: {'p': 25}\n",
      "            [X10=f, feature=X1]\n",
      "               [X1=y, feature=X0]\n",
      "                  [X0=x, leaf]: {'e': 4}\n",
      "                  [X0=k, feature=X2]\n",
      "                     [X2=n, feature=X11]\n",
      "                        [X11=s, leaf]: {'e': 1}\n",
      "                        [X11=f, leaf]: {'p': 1}\n",
      "                     [X2=c, leaf]: {'e': 2}\n",
      "                  [X0=f, feature=X11]\n",
      "                     [X11=s, leaf]: {'p': 2}\n",
      "                     [X11=f, leaf]: {'e': 2}\n",
      "               [X1=f, leaf]: {'e': 8}\n",
      "      [X7=b, leaf]: {'e': 2197, 'p': 286}\n",
      "   [X4=m, feature=X0]\n",
      "      [X0=x, leaf]: {'p': 7}\n",
      "      [X0=k, feature=X8]\n",
      "         [X8=y, leaf]: {'p': 6}\n",
      "         [X8=w, feature=X2]\n",
      "            [X2=n, leaf]: {'p': 1}\n",
      "            [X2=e, feature=X5]\n",
      "               [X5=f, leaf]: {'p': 1}\n",
      "               [X5=a, leaf]: {'e': 1}\n",
      "            [X2=c, leaf]: {'p': 2}\n",
      "      [X0=f, feature=X5]\n",
      "         [X5=f, feature=X2]\n",
      "            [X2=n, leaf]: {'p': 1}\n",
      "            [X2=e, leaf]: {'p': 2}\n",
      "            [X2=c, leaf]: {'e': 1}\n",
      "         [X5=a, leaf]: {'p': 5}\n",
      "   [X4=l, feature=X1]\n",
      "      [X1=y, leaf]: {'e': 159, 'p': 10}\n",
      "      [X1=s, feature=X2]\n",
      "         [X2=y, leaf]: {'e': 44, 'p': 5}\n",
      "         [X2=w, feature=X18]\n",
      "            [X18=u, leaf]: {'e': 5}\n",
      "            [X18=n, leaf]: {'e': 27, 'p': 6}\n",
      "            [X18=k, feature=X0]\n",
      "               [X0=x, feature=X8]\n",
      "                  [X8=w, leaf]: {'e': 1, 'p': 1}\n",
      "                  [X8=n, feature=X20]\n",
      "                     [X20=m, leaf]: {'p': 1}\n",
      "                     [X20=g, leaf]: {'e': 1}\n",
      "                  [X8=k, feature=X19]\n",
      "                     [X19=s, leaf]: {'p': 1}\n",
      "                     [X19=n, leaf]: {'e': 1}\n",
      "                  [X8=g, leaf]: {'e': 3}\n",
      "               [X0=b, feature=X8]\n",
      "                  [X8=w, leaf]: {'e': 3}\n",
      "                  [X8=n, leaf]: {'e': 3}\n",
      "                  [X8=k, feature=X19]\n",
      "                     [X19=s, leaf]: {'e': 2}\n",
      "                     [X19=n, feature=X20]\n",
      "                        [X20=m, leaf]: {'e': 1}\n",
      "                        [X20=g, leaf]: {'p': 1}\n",
      "                  [X8=g, feature=X19]\n",
      "                     [X19=s, feature=X20]\n",
      "                        [X20=m, leaf]: {'p': 1}\n",
      "                        [X20=g, leaf]: {'e': 1}\n",
      "                     [X19=n, leaf]: {'e': 2}\n",
      "      [X1=f, feature=X0]\n",
      "         [X0=x, leaf]: {'e': 10}\n",
      "         [X0=f, feature=X2]\n",
      "            [X2=y, leaf]: {'e': 5}\n",
      "            [X2=w, feature=X18]\n",
      "               [X18=u, feature=X8]\n",
      "                  [X8=w, leaf]: {'e': 1}\n",
      "                  [X8=p, leaf]: {'p': 1}\n",
      "               [X18=n, leaf]: {'e': 3}\n",
      "   [X4=f, leaf]: {'e': 170, 'p': 1438}\n",
      "   [X4=c, leaf]: {'e': 10, 'p': 137}\n",
      "   [X4=a, leaf]: {'e': 273, 'p': 31}\n"
     ]
    }
   ],
   "source": [
    "print_tree(tree_entropy_gain_ratio)"
   ],
   "metadata": {
    "collapsed": false,
    "pycharm": {
     "name": "#%%\n"
    }
   }
  }
 ],
 "metadata": {
  "celltoolbar": "Create Assignment",
  "colab": {
   "collapsed_sections": [],
   "name": "hwa2-V3.ipynb",
   "provenance": []
  },
  "kernelspec": {
   "display_name": "Python 3",
   "language": "python",
   "name": "python3"
  },
  "language_info": {
   "codemirror_mode": {
    "name": "ipython",
    "version": 3
   },
   "file_extension": ".py",
   "mimetype": "text/x-python",
   "name": "python",
   "nbconvert_exporter": "python",
   "pygments_lexer": "ipython3",
   "version": "3.7.7"
  }
 },
 "nbformat": 4,
 "nbformat_minor": 4
}